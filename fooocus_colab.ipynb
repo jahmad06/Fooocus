{
  "cells": [
    {
      "cell_type": "code",
      "execution_count": null,
      "metadata": {
        "id": "LYjlN_IaC0kf"
      },
      "outputs": [],
      "source": [
        "# Run first - we need to install the required dependencies and then clone the latest version of Fooocus\n",
        "!pip install pygit2==1.15.1\n",
        "%cd /content\n",
        "!git clone https://github.com/lllyasviel/Fooocus.git\n",
        "%cd /content/Fooocus"
      ]
    },
    {
      "cell_type": "code",
      "source": [
        "# Install any additional Fooocus dependencies e.g. upscaler\n",
        "!wget -O /content/Fooocus/models/upscale_models/fooocus_upscaler_s409985e5.bin https://huggingface.co/lllyasviel/misc/resolve/main/fooocus_upscaler_s409985e5.bin?download=true"
      ],
      "metadata": {
        "id": "jVA5oCVfDVgQ"
      },
      "execution_count": null,
      "outputs": []
    },
    {
      "cell_type": "code",
      "source": [
        "# Download the model you want to run and save it to the checkpoint folder\n",
        "!wget -O /content/Fooocus/models/checkpoints/realism_engine_sdxl.safetensors https://civitai.com/api/download/models/258380?type=Model&format=SafeTensor&size=pruned&fp=fp16\n"
      ],
      "metadata": {
        "id": "gPXtSHIcUrT1"
      },
      "execution_count": null,
      "outputs": []
    },
    {
      "cell_type": "code",
      "source": [
        "# Run Fooocus!\n",
        "!python entry_with_update.py --share --always-high-vram"
      ],
      "metadata": {
        "id": "RQyPnqbFUsgS"
      },
      "execution_count": null,
      "outputs": []
    }
  ],
  "metadata": {
    "accelerator": "GPU",
    "colab": {
      "gpuType": "T4",
      "provenance": []
    },
    "kernelspec": {
      "display_name": "Python 3",
      "name": "python3"
    },
    "language_info": {
      "name": "python"
    }
  },
  "nbformat": 4,
  "nbformat_minor": 0
}